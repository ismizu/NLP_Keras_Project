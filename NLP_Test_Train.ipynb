{
 "cells": [
  {
   "cell_type": "code",
   "execution_count": 1,
   "metadata": {
    "ExecuteTime": {
     "end_time": "2021-07-16T12:41:57.560905Z",
     "start_time": "2021-07-16T12:41:51.273580Z"
    }
   },
   "outputs": [],
   "source": [
    "import pandas as pd\n",
    "import numpy as np\n",
    "import string\n",
    "\n",
    "import matplotlib.pyplot as plt\n",
    "import seaborn as sns\n",
    "\n",
    "import torch\n",
    "import spacy\n",
    "from spacy.lang.en.stop_words import STOP_WORDS\n",
    "\n",
    "import tensorflow as tf\n",
    "from tensorflow.compat.v1 import ConfigProto\n",
    "from tensorflow.compat.v1 import InteractiveSession\n",
    "\n",
    "from keras.models import Sequential\n",
    "from keras.layers import Dense, Dropout\n",
    "from keras import optimizers, metrics \n",
    "\n",
    "from sklearn.preprocessing import LabelEncoder\n",
    "from sklearn.model_selection import train_test_split\n",
    "from sklearn.feature_extraction.text import TfidfVectorizer\n",
    "from sklearn.naive_bayes import MultinomialNB\n",
    "from sklearn.metrics import f1_score, multilabel_confusion_matrix, plot_confusion_matrix\n",
    "from sklearn.utils import class_weight\n",
    "\n",
    "import pickle\n",
    "\n",
    "import warnings\n",
    "warnings.filterwarnings(\"ignore\")\n",
    "pd.set_option('display.max_rows', 200)\n",
    "pd.set_option('display.max_columns', 100)\n",
    "\n",
    "#Check for gpu connection\n",
    "assert torch.cuda.is_available() == True\n",
    "assert len(tf.config.list_physical_devices('GPU')) == 1"
   ]
  },
  {
   "cell_type": "code",
   "execution_count": 2,
   "metadata": {
    "ExecuteTime": {
     "end_time": "2021-07-16T12:41:57.878081Z",
     "start_time": "2021-07-16T12:41:57.577863Z"
    }
   },
   "outputs": [
    {
     "data": {
      "text/plain": [
       "((10682, 5),\n",
       " Release Year    0\n",
       " Title           0\n",
       " Plot            0\n",
       " Director        0\n",
       " Genre           0\n",
       " dtype: int64)"
      ]
     },
     "execution_count": 2,
     "metadata": {},
     "output_type": "execute_result"
    }
   ],
   "source": [
    "#Read in data\n",
    "df = pd.read_csv('movie_train.csv', index_col=0)\n",
    "\n",
    "df.isna().sum()\n",
    "df.drop(columns = 'Cast', inplace = True)\n",
    "df.reset_index(drop = True, inplace = True)\n",
    "df.shape, df.isna().sum()"
   ]
  },
  {
   "cell_type": "code",
   "execution_count": null,
   "metadata": {},
   "outputs": [],
   "source": [
    "#Dependent/independent split\n",
    "X = df['Plot']\n",
    "y = df['Genre']"
   ]
  },
  {
   "cell_type": "code",
   "execution_count": 4,
   "metadata": {
    "ExecuteTime": {
     "end_time": "2021-07-16T03:06:32.086055Z",
     "start_time": "2021-07-16T03:06:12.782810Z"
    }
   },
   "outputs": [],
   "source": [
    "#Gather stop words, punctuation, numbers for removal\n",
    "stop_words = spacy.lang.en.stop_words.STOP_WORDS\n",
    "punctuation = [*string.punctuation , *[str(x) for x in list(range(0,10))]]\n",
    "\n",
    "#Ensure spacy utilizes gpu over cpu\n",
    "spacy.prefer_gpu()\n",
    "#Load spacy\n",
    "nlp = spacy.load('en_core_web_trf')\n",
    "\n",
    "#Define spacy tokenizer\n",
    "def spacy_tok(text):\n",
    "    '''\n",
    "    Remove punctuation, character names, and pronouns before\n",
    "    lemmatizing words and removing stop words\n",
    "    '''\n",
    "    doc = ''.join([x for x in text if x not in punctuation])\n",
    "    toks = nlp(doc)\n",
    "    toks = [word for word in toks if word.pos_ != 'PROPN' and word.pos_ != 'PRON']\n",
    "    toks = [word.lemma_.lower().strip() for word in toks]\n",
    "    toks = [word for word in toks if word not in stop_words]\n",
    "    return toks"
   ]
  },
  {
   "cell_type": "code",
   "execution_count": 4,
   "metadata": {
    "ExecuteTime": {
     "end_time": "2021-07-16T12:41:57.940888Z",
     "start_time": "2021-07-16T12:41:57.925929Z"
    }
   },
   "outputs": [],
   "source": [
    "#Train/Test split data\n",
    "X_train, X_test, y_train, y_test = train_test_split(X,\n",
    "                                                    y,\n",
    "                                                    stratify = y,\n",
    "                                                    random_state=42)"
   ]
  },
  {
   "cell_type": "code",
   "execution_count": 34,
   "metadata": {
    "ExecuteTime": {
     "end_time": "2021-07-16T04:51:03.367509Z",
     "start_time": "2021-07-16T04:51:02.834799Z"
    }
   },
   "outputs": [],
   "source": [
    "#Instantiate vectorizer\n",
    "tfidf = TfidfVectorizer(tokenizer = spacy_tok,\n",
    "                        sublinear_tf = True,\n",
    "                        max_df = .8,\n",
    "                        min_df = 10,\n",
    "                        ngram_range = (1, 3))"
   ]
  },
  {
   "cell_type": "code",
   "execution_count": 35,
   "metadata": {
    "ExecuteTime": {
     "end_time": "2021-07-16T05:04:15.944939Z",
     "start_time": "2021-07-16T04:51:05.015909Z"
    }
   },
   "outputs": [],
   "source": [
    "#Tokenize/Vectorize data\n",
    "X_train_feat = tfidf.fit_transform(X_train).toarray()\n",
    "X_test_feat = tfidf.transform(X_test).toarray()\n",
    "\n",
    "#Encode target variable\n",
    "encoder = LabelEncoder()\n",
    "\n",
    "encoded_y_train = encoder.fit_transform(y_train)\n",
    "encoded_y_test = encoder.transform(y_test)"
   ]
  },
  {
   "cell_type": "code",
   "execution_count": 47,
   "metadata": {
    "ExecuteTime": {
     "end_time": "2021-07-16T05:28:58.910003Z",
     "start_time": "2021-07-16T05:28:51.468514Z"
    }
   },
   "outputs": [],
   "source": [
    "#-- Tokenizer ~15min runtime. Results saved --#\n",
    "\n",
    "#pickle_out = open(\".pickle/X_train_feat.pickle\",\"wb\")\n",
    "#pickle.dump(X_train_feat, pickle_out)\n",
    "#pickle_out.close()\n",
    "\n",
    "#pickle_out = open(\".pickle/X_test_feat.pickle\",\"wb\")\n",
    "#pickle.dump(X_test_feat, pickle_out)\n",
    "#pickle_out.close()"
   ]
  },
  {
   "cell_type": "code",
   "execution_count": 5,
   "metadata": {
    "ExecuteTime": {
     "end_time": "2021-07-16T12:42:13.179256Z",
     "start_time": "2021-07-16T12:42:05.853759Z"
    }
   },
   "outputs": [],
   "source": [
    "#-- Reading results back in on restart --#\n",
    "\n",
    "#infile = open(\".pickle/X_train_feat.pickle\",'rb')\n",
    "#X_train_feat = pickle.load(infile)\n",
    "#infile.close()\n",
    "\n",
    "#infile = open(\".pickle/X_test_feat.pickle\",'rb')\n",
    "#X_test_feat = pickle.load(infile)\n",
    "#infile.close()"
   ]
  },
  {
   "cell_type": "code",
   "execution_count": 106,
   "metadata": {
    "ExecuteTime": {
     "end_time": "2021-07-16T15:51:46.016202Z",
     "start_time": "2021-07-16T15:51:45.477644Z"
    }
   },
   "outputs": [
    {
     "data": {
      "text/plain": [
       "(0.4628830381413872, 0.36520626490896835)"
      ]
     },
     "execution_count": 106,
     "metadata": {},
     "output_type": "execute_result"
    }
   ],
   "source": [
    "#Instantiate baseline Naive Bayes model\n",
    "mnb = MultinomialNB()\n",
    "\n",
    "mnb.fit(X_train_feat, y_train)\n",
    "y_hat = mnb.predict(X_test_feat)\n",
    "\n",
    "#Score baseline model\n",
    "f1_score(y_train, mnb.predict(X_train_feat), average = 'weighted'), f1_score(y_test, y_hat, average = 'weighted')"
   ]
  },
  {
   "cell_type": "code",
   "execution_count": 107,
   "metadata": {
    "ExecuteTime": {
     "end_time": "2021-07-16T15:51:46.080059Z",
     "start_time": "2021-07-16T15:51:46.066069Z"
    }
   },
   "outputs": [],
   "source": [
    "#Gather class weights to address class imbalance in Keras model\n",
    "class_weights = dict(zip(np.unique(encoded_y_train),\n",
    "                         class_weight.compute_class_weight('balanced',\n",
    "                                                           np.unique(encoded_y_train),\n",
    "                                                           encoded_y_train)\n",
    "                        )\n",
    "                    ) "
   ]
  },
  {
   "cell_type": "code",
   "execution_count": 108,
   "metadata": {
    "ExecuteTime": {
     "end_time": "2021-07-16T15:51:47.000841Z",
     "start_time": "2021-07-16T15:51:46.128901Z"
    }
   },
   "outputs": [],
   "source": [
    "#Configure tensorflow gpu usage\n",
    "config = ConfigProto()\n",
    "\n",
    "#gpu usage cap\n",
    "#config.gpu_options.per_process_gpu_memory_fraction = .8\n",
    "\n",
    "#Allow tensorflow to vary gpu usage\n",
    "config.gpu_options.allow_growth = True\n",
    "session = InteractiveSession(config=config)"
   ]
  },
  {
   "cell_type": "code",
   "execution_count": 109,
   "metadata": {
    "ExecuteTime": {
     "end_time": "2021-07-16T15:52:37.875837Z",
     "start_time": "2021-07-16T15:51:48.350019Z"
    },
    "scrolled": true
   },
   "outputs": [
    {
     "name": "stdout",
     "output_type": "stream",
     "text": [
      "Epoch 1/170\n",
      "13/13 [==============================] - 2s 45ms/step - loss: 2.2169 - sparse_categorical_accuracy: 0.0955 - val_loss: 2.1886 - val_sparse_categorical_accuracy: 0.1258\n",
      "Epoch 2/170\n",
      "13/13 [==============================] - 0s 22ms/step - loss: 2.1463 - sparse_categorical_accuracy: 0.1674 - val_loss: 2.1750 - val_sparse_categorical_accuracy: 0.1638\n",
      "Epoch 3/170\n",
      "13/13 [==============================] - 0s 21ms/step - loss: 2.1842 - sparse_categorical_accuracy: 0.2213 - val_loss: 2.1599 - val_sparse_categorical_accuracy: 0.2287\n",
      "Epoch 4/170\n",
      "13/13 [==============================] - 0s 21ms/step - loss: 2.1330 - sparse_categorical_accuracy: 0.2745 - val_loss: 2.1430 - val_sparse_categorical_accuracy: 0.3140\n",
      "Epoch 5/170\n",
      "13/13 [==============================] - 0s 21ms/step - loss: 2.0841 - sparse_categorical_accuracy: 0.3224 - val_loss: 2.1257 - val_sparse_categorical_accuracy: 0.3390\n",
      "Epoch 6/170\n",
      "13/13 [==============================] - 0s 22ms/step - loss: 2.0422 - sparse_categorical_accuracy: 0.3435 - val_loss: 2.1064 - val_sparse_categorical_accuracy: 0.3625\n",
      "Epoch 7/170\n",
      "13/13 [==============================] - 0s 21ms/step - loss: 2.0106 - sparse_categorical_accuracy: 0.3567 - val_loss: 2.0881 - val_sparse_categorical_accuracy: 0.3684\n",
      "Epoch 8/170\n",
      "13/13 [==============================] - 0s 20ms/step - loss: 1.9501 - sparse_categorical_accuracy: 0.3854 - val_loss: 2.0670 - val_sparse_categorical_accuracy: 0.3829\n",
      "Epoch 9/170\n",
      "13/13 [==============================] - 0s 21ms/step - loss: 1.9955 - sparse_categorical_accuracy: 0.3937 - val_loss: 2.0467 - val_sparse_categorical_accuracy: 0.3864\n",
      "Epoch 10/170\n",
      "13/13 [==============================] - 0s 21ms/step - loss: 1.9427 - sparse_categorical_accuracy: 0.3980 - val_loss: 2.0268 - val_sparse_categorical_accuracy: 0.3919\n",
      "Epoch 11/170\n",
      "13/13 [==============================] - 0s 21ms/step - loss: 1.8971 - sparse_categorical_accuracy: 0.4215 - val_loss: 2.0039 - val_sparse_categorical_accuracy: 0.4004\n",
      "Epoch 12/170\n",
      "13/13 [==============================] - 0s 21ms/step - loss: 1.8772 - sparse_categorical_accuracy: 0.4291 - val_loss: 1.9842 - val_sparse_categorical_accuracy: 0.4089\n",
      "Epoch 13/170\n",
      "13/13 [==============================] - 0s 21ms/step - loss: 1.8041 - sparse_categorical_accuracy: 0.4384 - val_loss: 1.9610 - val_sparse_categorical_accuracy: 0.4254\n",
      "Epoch 14/170\n",
      "13/13 [==============================] - 0s 21ms/step - loss: 1.7876 - sparse_categorical_accuracy: 0.4616 - val_loss: 1.9373 - val_sparse_categorical_accuracy: 0.4393\n",
      "Epoch 15/170\n",
      "13/13 [==============================] - 0s 21ms/step - loss: 1.7184 - sparse_categorical_accuracy: 0.4685 - val_loss: 1.9160 - val_sparse_categorical_accuracy: 0.4438\n",
      "Epoch 16/170\n",
      "13/13 [==============================] - 0s 21ms/step - loss: 1.7293 - sparse_categorical_accuracy: 0.4878 - val_loss: 1.9008 - val_sparse_categorical_accuracy: 0.4383\n",
      "Epoch 17/170\n",
      "13/13 [==============================] - 0s 21ms/step - loss: 1.6677 - sparse_categorical_accuracy: 0.4805 - val_loss: 1.8811 - val_sparse_categorical_accuracy: 0.4478\n",
      "Epoch 18/170\n",
      "13/13 [==============================] - 0s 21ms/step - loss: 1.6167 - sparse_categorical_accuracy: 0.4941 - val_loss: 1.8560 - val_sparse_categorical_accuracy: 0.4508\n",
      "Epoch 19/170\n",
      "13/13 [==============================] - 0s 20ms/step - loss: 1.6068 - sparse_categorical_accuracy: 0.5024 - val_loss: 1.8389 - val_sparse_categorical_accuracy: 0.4603\n",
      "Epoch 20/170\n",
      "13/13 [==============================] - 0s 20ms/step - loss: 1.5500 - sparse_categorical_accuracy: 0.5089 - val_loss: 1.8208 - val_sparse_categorical_accuracy: 0.4663\n",
      "Epoch 21/170\n",
      "13/13 [==============================] - 0s 21ms/step - loss: 1.5455 - sparse_categorical_accuracy: 0.5210 - val_loss: 1.8011 - val_sparse_categorical_accuracy: 0.4738\n",
      "Epoch 22/170\n",
      "13/13 [==============================] - 0s 21ms/step - loss: 1.4980 - sparse_categorical_accuracy: 0.5229 - val_loss: 1.7783 - val_sparse_categorical_accuracy: 0.4828\n",
      "Epoch 23/170\n",
      "13/13 [==============================] - 0s 20ms/step - loss: 1.4791 - sparse_categorical_accuracy: 0.5405 - val_loss: 1.7615 - val_sparse_categorical_accuracy: 0.4878\n",
      "Epoch 24/170\n",
      "13/13 [==============================] - 0s 20ms/step - loss: 1.4628 - sparse_categorical_accuracy: 0.5308 - val_loss: 1.7496 - val_sparse_categorical_accuracy: 0.4898\n",
      "Epoch 25/170\n",
      "13/13 [==============================] - 0s 21ms/step - loss: 1.4073 - sparse_categorical_accuracy: 0.5403 - val_loss: 1.7323 - val_sparse_categorical_accuracy: 0.4948\n",
      "Epoch 26/170\n",
      "13/13 [==============================] - 0s 20ms/step - loss: 1.3929 - sparse_categorical_accuracy: 0.5641 - val_loss: 1.7159 - val_sparse_categorical_accuracy: 0.5007\n",
      "Epoch 27/170\n",
      "13/13 [==============================] - 0s 21ms/step - loss: 1.3611 - sparse_categorical_accuracy: 0.5562 - val_loss: 1.7002 - val_sparse_categorical_accuracy: 0.5047\n",
      "Epoch 28/170\n",
      "13/13 [==============================] - 0s 21ms/step - loss: 1.3568 - sparse_categorical_accuracy: 0.5689 - val_loss: 1.6883 - val_sparse_categorical_accuracy: 0.5017\n",
      "Epoch 29/170\n",
      "13/13 [==============================] - 0s 21ms/step - loss: 1.3246 - sparse_categorical_accuracy: 0.5555 - val_loss: 1.6710 - val_sparse_categorical_accuracy: 0.5042\n",
      "Epoch 30/170\n",
      "13/13 [==============================] - 0s 21ms/step - loss: 1.2705 - sparse_categorical_accuracy: 0.5849 - val_loss: 1.6524 - val_sparse_categorical_accuracy: 0.5047\n",
      "Epoch 31/170\n",
      "13/13 [==============================] - 0s 21ms/step - loss: 1.2747 - sparse_categorical_accuracy: 0.5867 - val_loss: 1.6365 - val_sparse_categorical_accuracy: 0.5097\n",
      "Epoch 32/170\n",
      "13/13 [==============================] - 0s 21ms/step - loss: 1.2485 - sparse_categorical_accuracy: 0.5873 - val_loss: 1.6256 - val_sparse_categorical_accuracy: 0.5082\n",
      "Epoch 33/170\n",
      "13/13 [==============================] - 0s 21ms/step - loss: 1.2183 - sparse_categorical_accuracy: 0.5819 - val_loss: 1.6157 - val_sparse_categorical_accuracy: 0.5067\n",
      "Epoch 34/170\n",
      "13/13 [==============================] - 0s 20ms/step - loss: 1.2216 - sparse_categorical_accuracy: 0.5987 - val_loss: 1.6027 - val_sparse_categorical_accuracy: 0.5107\n",
      "Epoch 35/170\n",
      "13/13 [==============================] - 0s 21ms/step - loss: 1.1830 - sparse_categorical_accuracy: 0.6055 - val_loss: 1.5942 - val_sparse_categorical_accuracy: 0.5097\n",
      "Epoch 36/170\n",
      "13/13 [==============================] - 0s 21ms/step - loss: 1.1698 - sparse_categorical_accuracy: 0.5902 - val_loss: 1.5850 - val_sparse_categorical_accuracy: 0.5092\n",
      "Epoch 37/170\n",
      "13/13 [==============================] - 0s 21ms/step - loss: 1.1415 - sparse_categorical_accuracy: 0.6085 - val_loss: 1.5757 - val_sparse_categorical_accuracy: 0.5097\n",
      "Epoch 38/170\n",
      "13/13 [==============================] - 0s 21ms/step - loss: 1.1284 - sparse_categorical_accuracy: 0.5993 - val_loss: 1.5683 - val_sparse_categorical_accuracy: 0.5102\n",
      "Epoch 39/170\n",
      "13/13 [==============================] - 0s 21ms/step - loss: 1.1231 - sparse_categorical_accuracy: 0.6057 - val_loss: 1.5584 - val_sparse_categorical_accuracy: 0.5117\n",
      "Epoch 40/170\n",
      "13/13 [==============================] - 0s 21ms/step - loss: 1.0957 - sparse_categorical_accuracy: 0.6206 - val_loss: 1.5440 - val_sparse_categorical_accuracy: 0.5182\n",
      "Epoch 41/170\n",
      "13/13 [==============================] - 0s 21ms/step - loss: 1.0850 - sparse_categorical_accuracy: 0.6243 - val_loss: 1.5305 - val_sparse_categorical_accuracy: 0.5187\n",
      "Epoch 42/170\n",
      "13/13 [==============================] - 0s 21ms/step - loss: 1.0569 - sparse_categorical_accuracy: 0.6246 - val_loss: 1.5184 - val_sparse_categorical_accuracy: 0.5197\n",
      "Epoch 43/170\n",
      "13/13 [==============================] - 0s 21ms/step - loss: 1.0393 - sparse_categorical_accuracy: 0.6340 - val_loss: 1.5106 - val_sparse_categorical_accuracy: 0.5207\n",
      "Epoch 44/170\n",
      "13/13 [==============================] - 0s 21ms/step - loss: 1.0287 - sparse_categorical_accuracy: 0.6297 - val_loss: 1.5006 - val_sparse_categorical_accuracy: 0.5217\n",
      "Epoch 45/170\n",
      "13/13 [==============================] - 0s 20ms/step - loss: 1.0234 - sparse_categorical_accuracy: 0.6440 - val_loss: 1.4925 - val_sparse_categorical_accuracy: 0.5267\n",
      "Epoch 46/170\n",
      "13/13 [==============================] - 0s 21ms/step - loss: 0.9922 - sparse_categorical_accuracy: 0.6539 - val_loss: 1.4855 - val_sparse_categorical_accuracy: 0.5247\n",
      "Epoch 47/170\n",
      "13/13 [==============================] - 0s 21ms/step - loss: 0.9742 - sparse_categorical_accuracy: 0.6506 - val_loss: 1.4778 - val_sparse_categorical_accuracy: 0.5277\n",
      "Epoch 48/170\n",
      "13/13 [==============================] - 0s 21ms/step - loss: 0.9500 - sparse_categorical_accuracy: 0.6684 - val_loss: 1.4687 - val_sparse_categorical_accuracy: 0.5297\n",
      "Epoch 49/170\n",
      "13/13 [==============================] - 0s 20ms/step - loss: 0.9546 - sparse_categorical_accuracy: 0.6512 - val_loss: 1.4612 - val_sparse_categorical_accuracy: 0.5322\n",
      "Epoch 50/170\n",
      "13/13 [==============================] - 0s 21ms/step - loss: 0.9415 - sparse_categorical_accuracy: 0.6543 - val_loss: 1.4523 - val_sparse_categorical_accuracy: 0.5367\n",
      "Epoch 51/170\n",
      "13/13 [==============================] - 0s 21ms/step - loss: 0.9180 - sparse_categorical_accuracy: 0.6658 - val_loss: 1.4438 - val_sparse_categorical_accuracy: 0.5372\n",
      "Epoch 52/170\n",
      "13/13 [==============================] - 0s 21ms/step - loss: 0.9194 - sparse_categorical_accuracy: 0.6700 - val_loss: 1.4372 - val_sparse_categorical_accuracy: 0.5382\n",
      "Epoch 53/170\n",
      "13/13 [==============================] - 0s 21ms/step - loss: 0.8945 - sparse_categorical_accuracy: 0.6762 - val_loss: 1.4284 - val_sparse_categorical_accuracy: 0.5397\n",
      "Epoch 54/170\n",
      "13/13 [==============================] - 0s 21ms/step - loss: 0.9093 - sparse_categorical_accuracy: 0.6743 - val_loss: 1.4191 - val_sparse_categorical_accuracy: 0.5417\n",
      "Epoch 55/170\n",
      "13/13 [==============================] - 0s 21ms/step - loss: 0.8818 - sparse_categorical_accuracy: 0.6656 - val_loss: 1.4109 - val_sparse_categorical_accuracy: 0.5412\n",
      "Epoch 56/170\n",
      "13/13 [==============================] - 0s 21ms/step - loss: 0.8585 - sparse_categorical_accuracy: 0.6852 - val_loss: 1.4026 - val_sparse_categorical_accuracy: 0.5422\n",
      "Epoch 57/170\n",
      "13/13 [==============================] - 0s 21ms/step - loss: 0.8572 - sparse_categorical_accuracy: 0.6847 - val_loss: 1.3953 - val_sparse_categorical_accuracy: 0.5457\n",
      "Epoch 58/170\n",
      "13/13 [==============================] - 0s 21ms/step - loss: 0.8389 - sparse_categorical_accuracy: 0.6756 - val_loss: 1.3883 - val_sparse_categorical_accuracy: 0.5477\n",
      "Epoch 59/170\n",
      "13/13 [==============================] - 0s 21ms/step - loss: 0.8297 - sparse_categorical_accuracy: 0.6919 - val_loss: 1.3796 - val_sparse_categorical_accuracy: 0.5492\n",
      "Epoch 60/170\n",
      "13/13 [==============================] - 0s 21ms/step - loss: 0.8239 - sparse_categorical_accuracy: 0.6861 - val_loss: 1.3757 - val_sparse_categorical_accuracy: 0.5492\n",
      "Epoch 61/170\n",
      "13/13 [==============================] - 0s 21ms/step - loss: 0.8159 - sparse_categorical_accuracy: 0.6959 - val_loss: 1.3702 - val_sparse_categorical_accuracy: 0.5522\n",
      "Epoch 62/170\n",
      "13/13 [==============================] - 0s 21ms/step - loss: 0.7827 - sparse_categorical_accuracy: 0.7050 - val_loss: 1.3645 - val_sparse_categorical_accuracy: 0.5522\n",
      "Epoch 63/170\n",
      "13/13 [==============================] - 0s 21ms/step - loss: 0.7859 - sparse_categorical_accuracy: 0.7170 - val_loss: 1.3611 - val_sparse_categorical_accuracy: 0.5512\n",
      "Epoch 64/170\n",
      "13/13 [==============================] - 0s 21ms/step - loss: 0.7727 - sparse_categorical_accuracy: 0.7067 - val_loss: 1.3543 - val_sparse_categorical_accuracy: 0.5517\n",
      "Epoch 65/170\n",
      "13/13 [==============================] - 0s 21ms/step - loss: 0.7605 - sparse_categorical_accuracy: 0.7166 - val_loss: 1.3465 - val_sparse_categorical_accuracy: 0.5557\n",
      "Epoch 66/170\n",
      "13/13 [==============================] - 0s 21ms/step - loss: 0.7441 - sparse_categorical_accuracy: 0.7109 - val_loss: 1.3394 - val_sparse_categorical_accuracy: 0.5552\n",
      "Epoch 67/170\n",
      "13/13 [==============================] - 0s 21ms/step - loss: 0.7404 - sparse_categorical_accuracy: 0.7114 - val_loss: 1.3309 - val_sparse_categorical_accuracy: 0.5602\n",
      "Epoch 68/170\n",
      "13/13 [==============================] - 0s 21ms/step - loss: 0.7472 - sparse_categorical_accuracy: 0.7207 - val_loss: 1.3263 - val_sparse_categorical_accuracy: 0.5602\n",
      "Epoch 69/170\n",
      "13/13 [==============================] - 0s 20ms/step - loss: 0.7239 - sparse_categorical_accuracy: 0.7277 - val_loss: 1.3200 - val_sparse_categorical_accuracy: 0.5622\n",
      "Epoch 70/170\n",
      "13/13 [==============================] - 0s 21ms/step - loss: 0.7253 - sparse_categorical_accuracy: 0.7259 - val_loss: 1.3181 - val_sparse_categorical_accuracy: 0.5637\n",
      "Epoch 71/170\n",
      "13/13 [==============================] - 0s 21ms/step - loss: 0.7083 - sparse_categorical_accuracy: 0.7315 - val_loss: 1.3143 - val_sparse_categorical_accuracy: 0.5627\n",
      "Epoch 72/170\n",
      "13/13 [==============================] - 0s 21ms/step - loss: 0.7012 - sparse_categorical_accuracy: 0.7419 - val_loss: 1.3077 - val_sparse_categorical_accuracy: 0.5627\n",
      "Epoch 73/170\n",
      "13/13 [==============================] - 0s 21ms/step - loss: 0.6925 - sparse_categorical_accuracy: 0.7456 - val_loss: 1.3015 - val_sparse_categorical_accuracy: 0.5657\n",
      "Epoch 74/170\n",
      "13/13 [==============================] - 0s 22ms/step - loss: 0.6677 - sparse_categorical_accuracy: 0.7497 - val_loss: 1.2999 - val_sparse_categorical_accuracy: 0.5647\n",
      "Epoch 75/170\n",
      "13/13 [==============================] - 0s 21ms/step - loss: 0.6787 - sparse_categorical_accuracy: 0.7409 - val_loss: 1.2979 - val_sparse_categorical_accuracy: 0.5637\n",
      "Epoch 76/170\n",
      "13/13 [==============================] - 0s 20ms/step - loss: 0.6624 - sparse_categorical_accuracy: 0.7469 - val_loss: 1.2937 - val_sparse_categorical_accuracy: 0.5642\n",
      "Epoch 77/170\n",
      "13/13 [==============================] - 0s 21ms/step - loss: 0.6525 - sparse_categorical_accuracy: 0.7450 - val_loss: 1.2890 - val_sparse_categorical_accuracy: 0.5612\n",
      "Epoch 78/170\n",
      "13/13 [==============================] - 0s 21ms/step - loss: 0.6350 - sparse_categorical_accuracy: 0.7492 - val_loss: 1.2844 - val_sparse_categorical_accuracy: 0.5637\n",
      "Epoch 79/170\n",
      "13/13 [==============================] - 0s 21ms/step - loss: 0.6376 - sparse_categorical_accuracy: 0.7551 - val_loss: 1.2797 - val_sparse_categorical_accuracy: 0.5637\n",
      "Epoch 80/170\n",
      "13/13 [==============================] - 0s 21ms/step - loss: 0.6291 - sparse_categorical_accuracy: 0.7632 - val_loss: 1.2755 - val_sparse_categorical_accuracy: 0.5617\n",
      "Epoch 81/170\n",
      "13/13 [==============================] - 0s 21ms/step - loss: 0.6201 - sparse_categorical_accuracy: 0.7607 - val_loss: 1.2729 - val_sparse_categorical_accuracy: 0.5627\n",
      "Epoch 82/170\n",
      "13/13 [==============================] - 0s 21ms/step - loss: 0.6073 - sparse_categorical_accuracy: 0.7488 - val_loss: 1.2672 - val_sparse_categorical_accuracy: 0.5607\n",
      "Epoch 83/170\n",
      "13/13 [==============================] - 0s 21ms/step - loss: 0.6060 - sparse_categorical_accuracy: 0.7544 - val_loss: 1.2676 - val_sparse_categorical_accuracy: 0.5642\n",
      "Epoch 84/170\n",
      "13/13 [==============================] - 0s 21ms/step - loss: 0.5943 - sparse_categorical_accuracy: 0.7673 - val_loss: 1.2662 - val_sparse_categorical_accuracy: 0.5647\n",
      "Epoch 85/170\n",
      "13/13 [==============================] - 0s 21ms/step - loss: 0.5825 - sparse_categorical_accuracy: 0.7757 - val_loss: 1.2604 - val_sparse_categorical_accuracy: 0.5667\n",
      "Epoch 86/170\n",
      "13/13 [==============================] - 0s 21ms/step - loss: 0.5911 - sparse_categorical_accuracy: 0.7637 - val_loss: 1.2576 - val_sparse_categorical_accuracy: 0.5652\n",
      "Epoch 87/170\n",
      "13/13 [==============================] - 0s 20ms/step - loss: 0.5709 - sparse_categorical_accuracy: 0.7731 - val_loss: 1.2556 - val_sparse_categorical_accuracy: 0.5652\n",
      "Epoch 88/170\n",
      "13/13 [==============================] - 0s 21ms/step - loss: 0.5838 - sparse_categorical_accuracy: 0.7646 - val_loss: 1.2515 - val_sparse_categorical_accuracy: 0.5667\n",
      "Epoch 89/170\n",
      "13/13 [==============================] - 0s 22ms/step - loss: 0.5710 - sparse_categorical_accuracy: 0.7764 - val_loss: 1.2465 - val_sparse_categorical_accuracy: 0.5662\n",
      "Epoch 90/170\n",
      "13/13 [==============================] - 0s 21ms/step - loss: 0.5494 - sparse_categorical_accuracy: 0.7780 - val_loss: 1.2425 - val_sparse_categorical_accuracy: 0.5681\n",
      "Epoch 91/170\n"
     ]
    },
    {
     "name": "stdout",
     "output_type": "stream",
     "text": [
      "13/13 [==============================] - 0s 21ms/step - loss: 0.5555 - sparse_categorical_accuracy: 0.7783 - val_loss: 1.2369 - val_sparse_categorical_accuracy: 0.5691\n",
      "Epoch 92/170\n",
      "13/13 [==============================] - 0s 21ms/step - loss: 0.5447 - sparse_categorical_accuracy: 0.7794 - val_loss: 1.2332 - val_sparse_categorical_accuracy: 0.5676\n",
      "Epoch 93/170\n",
      "13/13 [==============================] - 0s 21ms/step - loss: 0.5386 - sparse_categorical_accuracy: 0.7934 - val_loss: 1.2309 - val_sparse_categorical_accuracy: 0.5681\n",
      "Epoch 94/170\n",
      "13/13 [==============================] - 0s 21ms/step - loss: 0.5332 - sparse_categorical_accuracy: 0.8060 - val_loss: 1.2285 - val_sparse_categorical_accuracy: 0.5657\n",
      "Epoch 95/170\n",
      "13/13 [==============================] - 0s 20ms/step - loss: 0.5127 - sparse_categorical_accuracy: 0.7957 - val_loss: 1.2253 - val_sparse_categorical_accuracy: 0.5676\n",
      "Epoch 96/170\n",
      "13/13 [==============================] - 0s 21ms/step - loss: 0.5212 - sparse_categorical_accuracy: 0.7909 - val_loss: 1.2219 - val_sparse_categorical_accuracy: 0.5691\n",
      "Epoch 97/170\n",
      "13/13 [==============================] - 0s 21ms/step - loss: 0.5202 - sparse_categorical_accuracy: 0.7958 - val_loss: 1.2191 - val_sparse_categorical_accuracy: 0.5696\n",
      "Epoch 98/170\n",
      "13/13 [==============================] - 0s 21ms/step - loss: 0.4966 - sparse_categorical_accuracy: 0.7988 - val_loss: 1.2165 - val_sparse_categorical_accuracy: 0.5671\n",
      "Epoch 99/170\n",
      "13/13 [==============================] - 0s 21ms/step - loss: 0.4941 - sparse_categorical_accuracy: 0.8062 - val_loss: 1.2151 - val_sparse_categorical_accuracy: 0.5676\n",
      "Epoch 100/170\n",
      "13/13 [==============================] - 0s 21ms/step - loss: 0.4986 - sparse_categorical_accuracy: 0.8054 - val_loss: 1.2121 - val_sparse_categorical_accuracy: 0.5686\n",
      "Epoch 101/170\n",
      "13/13 [==============================] - 0s 21ms/step - loss: 0.4926 - sparse_categorical_accuracy: 0.8066 - val_loss: 1.2103 - val_sparse_categorical_accuracy: 0.5701\n",
      "Epoch 102/170\n",
      "13/13 [==============================] - 0s 21ms/step - loss: 0.4756 - sparse_categorical_accuracy: 0.8054 - val_loss: 1.2086 - val_sparse_categorical_accuracy: 0.5671\n",
      "Epoch 103/170\n",
      "13/13 [==============================] - 0s 21ms/step - loss: 0.4810 - sparse_categorical_accuracy: 0.8042 - val_loss: 1.2098 - val_sparse_categorical_accuracy: 0.5686\n",
      "Epoch 104/170\n",
      "13/13 [==============================] - 0s 22ms/step - loss: 0.4823 - sparse_categorical_accuracy: 0.8071 - val_loss: 1.2075 - val_sparse_categorical_accuracy: 0.5706\n",
      "Epoch 105/170\n",
      "13/13 [==============================] - 0s 21ms/step - loss: 0.4595 - sparse_categorical_accuracy: 0.8111 - val_loss: 1.2034 - val_sparse_categorical_accuracy: 0.5711\n",
      "Epoch 106/170\n",
      "13/13 [==============================] - 0s 21ms/step - loss: 0.4635 - sparse_categorical_accuracy: 0.8175 - val_loss: 1.1991 - val_sparse_categorical_accuracy: 0.5726\n",
      "Epoch 107/170\n",
      "13/13 [==============================] - 0s 21ms/step - loss: 0.4562 - sparse_categorical_accuracy: 0.8165 - val_loss: 1.1955 - val_sparse_categorical_accuracy: 0.5711\n",
      "Epoch 108/170\n",
      "13/13 [==============================] - 0s 21ms/step - loss: 0.4593 - sparse_categorical_accuracy: 0.8256 - val_loss: 1.1945 - val_sparse_categorical_accuracy: 0.5691\n",
      "Epoch 109/170\n",
      "13/13 [==============================] - 0s 21ms/step - loss: 0.4401 - sparse_categorical_accuracy: 0.8241 - val_loss: 1.1936 - val_sparse_categorical_accuracy: 0.5721\n",
      "Epoch 110/170\n",
      "13/13 [==============================] - 0s 21ms/step - loss: 0.4472 - sparse_categorical_accuracy: 0.8279 - val_loss: 1.1904 - val_sparse_categorical_accuracy: 0.5706\n",
      "Epoch 111/170\n",
      "13/13 [==============================] - 0s 21ms/step - loss: 0.4391 - sparse_categorical_accuracy: 0.8270 - val_loss: 1.1912 - val_sparse_categorical_accuracy: 0.5721\n",
      "Epoch 112/170\n",
      "13/13 [==============================] - 0s 21ms/step - loss: 0.4241 - sparse_categorical_accuracy: 0.8288 - val_loss: 1.1904 - val_sparse_categorical_accuracy: 0.5736\n",
      "Epoch 113/170\n",
      "13/13 [==============================] - 0s 21ms/step - loss: 0.4159 - sparse_categorical_accuracy: 0.8384 - val_loss: 1.1877 - val_sparse_categorical_accuracy: 0.5751\n",
      "Epoch 114/170\n",
      "13/13 [==============================] - 0s 21ms/step - loss: 0.4187 - sparse_categorical_accuracy: 0.8275 - val_loss: 1.1853 - val_sparse_categorical_accuracy: 0.5711\n",
      "Epoch 115/170\n",
      "13/13 [==============================] - 0s 21ms/step - loss: 0.4150 - sparse_categorical_accuracy: 0.8333 - val_loss: 1.1844 - val_sparse_categorical_accuracy: 0.5721\n",
      "Epoch 116/170\n",
      "13/13 [==============================] - 0s 21ms/step - loss: 0.4064 - sparse_categorical_accuracy: 0.8340 - val_loss: 1.1839 - val_sparse_categorical_accuracy: 0.5711\n",
      "Epoch 117/170\n",
      "13/13 [==============================] - 0s 20ms/step - loss: 0.4042 - sparse_categorical_accuracy: 0.8371 - val_loss: 1.1809 - val_sparse_categorical_accuracy: 0.5746\n",
      "Epoch 118/170\n",
      "13/13 [==============================] - 0s 21ms/step - loss: 0.4047 - sparse_categorical_accuracy: 0.8445 - val_loss: 1.1795 - val_sparse_categorical_accuracy: 0.5746\n",
      "Epoch 119/170\n",
      "13/13 [==============================] - 0s 21ms/step - loss: 0.3873 - sparse_categorical_accuracy: 0.8440 - val_loss: 1.1770 - val_sparse_categorical_accuracy: 0.5751\n",
      "Epoch 120/170\n",
      "13/13 [==============================] - 0s 21ms/step - loss: 0.3861 - sparse_categorical_accuracy: 0.8488 - val_loss: 1.1756 - val_sparse_categorical_accuracy: 0.5756\n",
      "Epoch 121/170\n",
      "13/13 [==============================] - 0s 20ms/step - loss: 0.3837 - sparse_categorical_accuracy: 0.8452 - val_loss: 1.1758 - val_sparse_categorical_accuracy: 0.5766\n",
      "Epoch 122/170\n",
      "13/13 [==============================] - 0s 21ms/step - loss: 0.3779 - sparse_categorical_accuracy: 0.8522 - val_loss: 1.1766 - val_sparse_categorical_accuracy: 0.5756\n",
      "Epoch 123/170\n",
      "13/13 [==============================] - 0s 21ms/step - loss: 0.3778 - sparse_categorical_accuracy: 0.8540 - val_loss: 1.1753 - val_sparse_categorical_accuracy: 0.5761\n",
      "Epoch 124/170\n",
      "13/13 [==============================] - 0s 21ms/step - loss: 0.3705 - sparse_categorical_accuracy: 0.8508 - val_loss: 1.1735 - val_sparse_categorical_accuracy: 0.5756\n",
      "Epoch 125/170\n",
      "13/13 [==============================] - 0s 20ms/step - loss: 0.3739 - sparse_categorical_accuracy: 0.8496 - val_loss: 1.1718 - val_sparse_categorical_accuracy: 0.5741\n",
      "Epoch 126/170\n",
      "13/13 [==============================] - 0s 21ms/step - loss: 0.3694 - sparse_categorical_accuracy: 0.8517 - val_loss: 1.1724 - val_sparse_categorical_accuracy: 0.5751\n",
      "Epoch 127/170\n",
      "13/13 [==============================] - 0s 21ms/step - loss: 0.3695 - sparse_categorical_accuracy: 0.8528 - val_loss: 1.1732 - val_sparse_categorical_accuracy: 0.5751\n",
      "Epoch 128/170\n",
      "13/13 [==============================] - 0s 21ms/step - loss: 0.3654 - sparse_categorical_accuracy: 0.8514 - val_loss: 1.1726 - val_sparse_categorical_accuracy: 0.5761\n",
      "Epoch 129/170\n",
      "13/13 [==============================] - 0s 21ms/step - loss: 0.3574 - sparse_categorical_accuracy: 0.8588 - val_loss: 1.1706 - val_sparse_categorical_accuracy: 0.5776\n",
      "Epoch 130/170\n",
      "13/13 [==============================] - 0s 21ms/step - loss: 0.3542 - sparse_categorical_accuracy: 0.8585 - val_loss: 1.1699 - val_sparse_categorical_accuracy: 0.5751\n",
      "Epoch 131/170\n",
      "13/13 [==============================] - 0s 21ms/step - loss: 0.3485 - sparse_categorical_accuracy: 0.8590 - val_loss: 1.1696 - val_sparse_categorical_accuracy: 0.5741\n",
      "Epoch 132/170\n",
      "13/13 [==============================] - 0s 21ms/step - loss: 0.3452 - sparse_categorical_accuracy: 0.8599 - val_loss: 1.1683 - val_sparse_categorical_accuracy: 0.5776\n",
      "Epoch 133/170\n",
      "13/13 [==============================] - 0s 21ms/step - loss: 0.3325 - sparse_categorical_accuracy: 0.8694 - val_loss: 1.1667 - val_sparse_categorical_accuracy: 0.5761\n",
      "Epoch 134/170\n",
      "13/13 [==============================] - 0s 21ms/step - loss: 0.3316 - sparse_categorical_accuracy: 0.8666 - val_loss: 1.1661 - val_sparse_categorical_accuracy: 0.5771\n",
      "Epoch 135/170\n",
      "13/13 [==============================] - 0s 21ms/step - loss: 0.3346 - sparse_categorical_accuracy: 0.8653 - val_loss: 1.1657 - val_sparse_categorical_accuracy: 0.5766\n",
      "Epoch 136/170\n",
      "13/13 [==============================] - 0s 21ms/step - loss: 0.3194 - sparse_categorical_accuracy: 0.8735 - val_loss: 1.1660 - val_sparse_categorical_accuracy: 0.5771\n",
      "Epoch 137/170\n",
      "13/13 [==============================] - 0s 21ms/step - loss: 0.3223 - sparse_categorical_accuracy: 0.8834 - val_loss: 1.1645 - val_sparse_categorical_accuracy: 0.5756\n",
      "Epoch 138/170\n",
      "13/13 [==============================] - 0s 21ms/step - loss: 0.3124 - sparse_categorical_accuracy: 0.8751 - val_loss: 1.1640 - val_sparse_categorical_accuracy: 0.5761\n",
      "Epoch 139/170\n",
      "13/13 [==============================] - 0s 20ms/step - loss: 0.3150 - sparse_categorical_accuracy: 0.8816 - val_loss: 1.1620 - val_sparse_categorical_accuracy: 0.5741\n",
      "Epoch 140/170\n",
      "13/13 [==============================] - 0s 21ms/step - loss: 0.3070 - sparse_categorical_accuracy: 0.8785 - val_loss: 1.1618 - val_sparse_categorical_accuracy: 0.5756\n",
      "Epoch 141/170\n",
      "13/13 [==============================] - 0s 21ms/step - loss: 0.3025 - sparse_categorical_accuracy: 0.8726 - val_loss: 1.1620 - val_sparse_categorical_accuracy: 0.5761\n",
      "Epoch 142/170\n",
      "13/13 [==============================] - 0s 21ms/step - loss: 0.3012 - sparse_categorical_accuracy: 0.8775 - val_loss: 1.1629 - val_sparse_categorical_accuracy: 0.5751\n",
      "Epoch 143/170\n",
      "13/13 [==============================] - 0s 20ms/step - loss: 0.3039 - sparse_categorical_accuracy: 0.8742 - val_loss: 1.1631 - val_sparse_categorical_accuracy: 0.5756\n",
      "Epoch 144/170\n",
      "13/13 [==============================] - 0s 21ms/step - loss: 0.3097 - sparse_categorical_accuracy: 0.8742 - val_loss: 1.1622 - val_sparse_categorical_accuracy: 0.5766\n",
      "Epoch 145/170\n",
      "13/13 [==============================] - 0s 22ms/step - loss: 0.3054 - sparse_categorical_accuracy: 0.8784 - val_loss: 1.1604 - val_sparse_categorical_accuracy: 0.5761\n",
      "Epoch 146/170\n",
      "13/13 [==============================] - 0s 21ms/step - loss: 0.2965 - sparse_categorical_accuracy: 0.8783 - val_loss: 1.1606 - val_sparse_categorical_accuracy: 0.5771\n",
      "Epoch 147/170\n",
      "13/13 [==============================] - 0s 21ms/step - loss: 0.2951 - sparse_categorical_accuracy: 0.8825 - val_loss: 1.1612 - val_sparse_categorical_accuracy: 0.5771\n",
      "Epoch 148/170\n",
      "13/13 [==============================] - 0s 21ms/step - loss: 0.2868 - sparse_categorical_accuracy: 0.8859 - val_loss: 1.1616 - val_sparse_categorical_accuracy: 0.5781\n",
      "Epoch 149/170\n",
      "13/13 [==============================] - 0s 21ms/step - loss: 0.2779 - sparse_categorical_accuracy: 0.8843 - val_loss: 1.1626 - val_sparse_categorical_accuracy: 0.5776\n",
      "Epoch 150/170\n",
      "13/13 [==============================] - 0s 21ms/step - loss: 0.2807 - sparse_categorical_accuracy: 0.8919 - val_loss: 1.1622 - val_sparse_categorical_accuracy: 0.5781\n",
      "Epoch 151/170\n",
      "13/13 [==============================] - 0s 21ms/step - loss: 0.2694 - sparse_categorical_accuracy: 0.8870 - val_loss: 1.1623 - val_sparse_categorical_accuracy: 0.5771\n",
      "Epoch 152/170\n",
      "13/13 [==============================] - 0s 21ms/step - loss: 0.2767 - sparse_categorical_accuracy: 0.8849 - val_loss: 1.1630 - val_sparse_categorical_accuracy: 0.5771\n",
      "Epoch 153/170\n",
      "13/13 [==============================] - 0s 21ms/step - loss: 0.2743 - sparse_categorical_accuracy: 0.8957 - val_loss: 1.1632 - val_sparse_categorical_accuracy: 0.5776\n",
      "Epoch 154/170\n",
      "13/13 [==============================] - 0s 21ms/step - loss: 0.2640 - sparse_categorical_accuracy: 0.8837 - val_loss: 1.1631 - val_sparse_categorical_accuracy: 0.5776\n",
      "Epoch 155/170\n",
      "13/13 [==============================] - 0s 21ms/step - loss: 0.2765 - sparse_categorical_accuracy: 0.8904 - val_loss: 1.1648 - val_sparse_categorical_accuracy: 0.5776\n",
      "Epoch 156/170\n",
      "13/13 [==============================] - 0s 21ms/step - loss: 0.2628 - sparse_categorical_accuracy: 0.8921 - val_loss: 1.1647 - val_sparse_categorical_accuracy: 0.5786\n",
      "Epoch 157/170\n",
      "13/13 [==============================] - 0s 21ms/step - loss: 0.2572 - sparse_categorical_accuracy: 0.8977 - val_loss: 1.1646 - val_sparse_categorical_accuracy: 0.5761\n",
      "Epoch 158/170\n",
      "13/13 [==============================] - 0s 21ms/step - loss: 0.2547 - sparse_categorical_accuracy: 0.8927 - val_loss: 1.1649 - val_sparse_categorical_accuracy: 0.5756\n",
      "Epoch 159/170\n",
      "13/13 [==============================] - 0s 21ms/step - loss: 0.2569 - sparse_categorical_accuracy: 0.8965 - val_loss: 1.1654 - val_sparse_categorical_accuracy: 0.5761\n",
      "Epoch 160/170\n",
      "13/13 [==============================] - 0s 21ms/step - loss: 0.2477 - sparse_categorical_accuracy: 0.8942 - val_loss: 1.1655 - val_sparse_categorical_accuracy: 0.5761\n",
      "Epoch 161/170\n",
      "13/13 [==============================] - 0s 21ms/step - loss: 0.2504 - sparse_categorical_accuracy: 0.9001 - val_loss: 1.1671 - val_sparse_categorical_accuracy: 0.5746\n",
      "Epoch 162/170\n",
      "13/13 [==============================] - 0s 21ms/step - loss: 0.2464 - sparse_categorical_accuracy: 0.9018 - val_loss: 1.1677 - val_sparse_categorical_accuracy: 0.5756\n",
      "Epoch 163/170\n",
      "13/13 [==============================] - 0s 21ms/step - loss: 0.2408 - sparse_categorical_accuracy: 0.8996 - val_loss: 1.1693 - val_sparse_categorical_accuracy: 0.5751\n",
      "Epoch 164/170\n",
      "13/13 [==============================] - 0s 21ms/step - loss: 0.2436 - sparse_categorical_accuracy: 0.9048 - val_loss: 1.1699 - val_sparse_categorical_accuracy: 0.5771\n",
      "Epoch 165/170\n",
      "13/13 [==============================] - 0s 21ms/step - loss: 0.2421 - sparse_categorical_accuracy: 0.9005 - val_loss: 1.1688 - val_sparse_categorical_accuracy: 0.5756\n",
      "Epoch 166/170\n",
      "13/13 [==============================] - 0s 21ms/step - loss: 0.2401 - sparse_categorical_accuracy: 0.9095 - val_loss: 1.1687 - val_sparse_categorical_accuracy: 0.5761\n",
      "Epoch 167/170\n",
      "13/13 [==============================] - 0s 21ms/step - loss: 0.2333 - sparse_categorical_accuracy: 0.9062 - val_loss: 1.1692 - val_sparse_categorical_accuracy: 0.5761\n",
      "Epoch 168/170\n",
      "13/13 [==============================] - 0s 21ms/step - loss: 0.2304 - sparse_categorical_accuracy: 0.9084 - val_loss: 1.1698 - val_sparse_categorical_accuracy: 0.5761\n",
      "Epoch 169/170\n",
      "13/13 [==============================] - 0s 21ms/step - loss: 0.2373 - sparse_categorical_accuracy: 0.9052 - val_loss: 1.1699 - val_sparse_categorical_accuracy: 0.5761\n",
      "Epoch 170/170\n",
      "13/13 [==============================] - 0s 18ms/step - loss: 0.2253 - sparse_categorical_accuracy: 0.9053 - val_loss: 1.1710 - val_sparse_categorical_accuracy: 0.5771\n"
     ]
    }
   ],
   "source": [
    "num = 100\n",
    "batch_size = 500\n",
    "#Configure optimzer learning rate\n",
    "opt = tf.keras.optimizers.Adamax(learning_rate=0.00075)\n",
    "\n",
    "#Instantiate Keras model\n",
    "model = Sequential()\n",
    "model.add(Dense(num*2, activation = 'relu', input_dim = X_train_feat.shape[1]))\n",
    "model.add(Dropout(0.6))\n",
    "model.add(Dense(num/2, activation = 'relu'))\n",
    "model.add(Dropout(0.3))\n",
    "model.add(Dense(9, activation = 'softmax'))\n",
    "\n",
    "#Compile/fit model\n",
    "model.compile(optimizer = opt,\n",
    "              loss = 'sparse_categorical_crossentropy',\n",
    "              metrics = [metrics.sparse_categorical_accuracy])\n",
    "\n",
    "results = model.fit(X_train_feat, encoded_y_train,\n",
    "                    epochs = 170,\n",
    "                    batch_size = batch_size,\n",
    "                    validation_split = .25,\n",
    "                    shuffle = True,\n",
    "                    class_weight = class_weights\n",
    "                   )"
   ]
  },
  {
   "cell_type": "code",
   "execution_count": 110,
   "metadata": {
    "ExecuteTime": {
     "end_time": "2021-07-16T15:52:38.440832Z",
     "start_time": "2021-07-16T15:52:37.906754Z"
    },
    "scrolled": true
   },
   "outputs": [
    {
     "data": {
      "image/png": "[encoded data removed]",
      "text/plain": [
       "<Figure size 720x360 with 3 Axes>"
      ]
     },
     "metadata": {
      "needs_background": "light"
     },
     "output_type": "display_data"
    }
   ],
   "source": [
    "#Gather results\n",
    "sigmoid_loss = results.history['loss']\n",
    "sigmoid_accuracy = results.history['sparse_categorical_accuracy']\n",
    "sigmoid_val_accuracy = results.history['val_sparse_categorical_accuracy']\n",
    "\n",
    "#Plot loss and accuracy\n",
    "fig, (ax1, ax2, ax3) = plt.subplots(1,3, figsize=(10,5))\n",
    "sns.lineplot(x=results.epoch, y=sigmoid_loss, ax=ax1, label='loss')\n",
    "sns.lineplot(x=results.epoch, y=sigmoid_accuracy, ax=ax2, label='sparse_categorical_accuracy')\n",
    "sns.lineplot(x=results.epoch, y=sigmoid_val_accuracy, ax=ax3, label='val_sparse_categorical_accuracy');"
   ]
  },
  {
   "cell_type": "code",
   "execution_count": 111,
   "metadata": {
    "ExecuteTime": {
     "end_time": "2021-07-16T15:52:38.910127Z",
     "start_time": "2021-07-16T15:52:38.486929Z"
    }
   },
   "outputs": [
    {
     "data": {
      "text/plain": [
       "0.6030469925890902"
      ]
     },
     "execution_count": 111,
     "metadata": {},
     "output_type": "execute_result"
    }
   ],
   "source": [
    "test = model.predict(X_test_feat)\n",
    "\n",
    "f1_score(encoded_y_test, test.argmax(axis=1), average = 'weighted')"
   ]
  },
  {
   "cell_type": "code",
   "execution_count": 112,
   "metadata": {
    "ExecuteTime": {
     "end_time": "2021-07-16T15:53:02.509281Z",
     "start_time": "2021-07-16T15:53:01.287839Z"
    },
    "scrolled": false
   },
   "outputs": [
    {
     "data": {
      "image/png": "[encoded data removed]",
      "text/plain": [
       "<Figure size 576x576 with 2 Axes>"
      ]
     },
     "metadata": {
      "needs_background": "light"
     },
     "output_type": "display_data"
    }
   ],
   "source": [
    "con_mat = tf.math.confusion_matrix(encoded_y_test,\n",
    "                                   test.argmax(axis=1)).numpy()\n",
    "\n",
    "con_mat_norm = np.around(con_mat.astype('float') / con_mat.sum(axis=1)[:, np.newaxis], decimals=2)\n",
    "#con_mat_df = pd.DataFrame(con_mat_norm,\n",
    "#                     index = classes, \n",
    "#                     columns = classes)\n",
    "\n",
    "figure = plt.figure(figsize=(8, 8))\n",
    "sns.heatmap(con_mat_norm, annot=True,cmap=plt.cm.Blues)\n",
    "plt.tight_layout()\n",
    "plt.ylabel('True label')\n",
    "plt.xlabel('Predicted label')\n",
    "plt.show()"
   ]
  },
  {
   "cell_type": "code",
   "execution_count": 147,
   "metadata": {
    "ExecuteTime": {
     "end_time": "2021-07-15T19:36:27.408922Z",
     "start_time": "2021-07-15T19:36:27.385984Z"
    },
    "scrolled": true
   },
   "outputs": [
    {
     "data": {
      "text/plain": [
       "drama        3770\n",
       "comedy       2724\n",
       "horror        840\n",
       "action        830\n",
       "thriller      685\n",
       "romance       649\n",
       "western       525\n",
       "adventure     331\n",
       "crime         328\n",
       "Name: Genre, dtype: int64"
      ]
     },
     "execution_count": 147,
     "metadata": {},
     "output_type": "execute_result"
    }
   ],
   "source": [
    "y.value_counts()"
   ]
  },
  {
   "cell_type": "code",
   "execution_count": 146,
   "metadata": {
    "ExecuteTime": {
     "end_time": "2021-07-15T19:35:59.753213Z",
     "start_time": "2021-07-15T19:35:59.746232Z"
    }
   },
   "outputs": [
    {
     "data": {
      "text/plain": [
       "array(['action', 'adventure', 'comedy', 'crime', 'drama', 'horror',\n",
       "       'romance', 'thriller', 'western'], dtype=object)"
      ]
     },
     "execution_count": 146,
     "metadata": {},
     "output_type": "execute_result"
    }
   ],
   "source": [
    "encoder.classes_#inverse_transform"
   ]
  },
  {
   "cell_type": "code",
   "execution_count": 243,
   "metadata": {
    "ExecuteTime": {
     "end_time": "2021-07-15T20:55:18.506729Z",
     "start_time": "2021-07-15T20:55:18.492768Z"
    }
   },
   "outputs": [
    {
     "data": {
      "text/plain": [
       "array(['comedy', 'action', 'drama', ..., 'romance', 'drama', 'drama'],\n",
       "      dtype=object)"
      ]
     },
     "execution_count": 243,
     "metadata": {},
     "output_type": "execute_result"
    }
   ],
   "source": [
    "encoder.inverse_transform(test.argmax(axis=1))"
   ]
  }
 ],
 "metadata": {
  "kernelspec": {
   "display_name": "Python 3",
   "language": "python",
   "name": "python3"
  },
  "language_info": {
   "codemirror_mode": {
    "name": "ipython",
    "version": 3
   },
   "file_extension": ".py",
   "mimetype": "text/x-python",
   "name": "python",
   "nbconvert_exporter": "python",
   "pygments_lexer": "ipython3",
   "version": "3.8.5"
  },
  "toc": {
   "base_numbering": 1,
   "nav_menu": {},
   "number_sections": true,
   "sideBar": true,
   "skip_h1_title": false,
   "title_cell": "Table of Contents",
   "title_sidebar": "Contents",
   "toc_cell": false,
   "toc_position": {},
   "toc_section_display": true,
   "toc_window_display": false
  },
  "varInspector": {
   "cols": {
    "lenName": 16,
    "lenType": 16,
    "lenVar": 40
   },
   "kernels_config": {
    "python": {
     "delete_cmd_postfix": "",
     "delete_cmd_prefix": "del ",
     "library": "var_list.py",
     "varRefreshCmd": "print(var_dic_list())"
    },
    "r": {
     "delete_cmd_postfix": ") ",
     "delete_cmd_prefix": "rm(",
     "library": "var_list.r",
     "varRefreshCmd": "cat(var_dic_list()) "
    }
   },
   "types_to_exclude": [
    "module",
    "function",
    "builtin_function_or_method",
    "instance",
    "_Feature"
   ],
   "window_display": false
  }
 },
 "nbformat": 4,
 "nbformat_minor": 2
}
