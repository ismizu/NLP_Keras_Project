{
 "cells": [
  {
   "cell_type": "markdown",
   "metadata": {},
   "source": [
    "# NLP with Keras"
   ]
  },
  {
   "cell_type": "markdown",
   "metadata": {},
   "source": [
    "This projects utilzies Keras to make predictions on movie genre based on the movie's plot.\n",
    "\n",
    "There are two notebooks present in the repository:\n",
    "- Model training/testing done in NLP_Test_Train\n",
    "- Predictions on holdout set done in Predicting_Holdout_Set"
   ]
  },
  {
   "attachments": {},
   "cell_type": "markdown",
   "metadata": {},
   "source": [
    "![cover_photo.jpg](https://raw.githubusercontent.com/ismizu/NLP_Keras_Project/main/images/cover_photo.jpg)"
   ]
  },
  {
   "cell_type": "markdown",
   "metadata": {},
   "source": [
    "##### Photo by [Pixabay](https://www.pexels.com/@pixabay) from [Pexels](https://www.pexels.com)"
   ]
  },
  {
   "cell_type": "markdown",
   "metadata": {},
   "source": [
    "Repository structure:\n",
    "- All csv's can be found in the /data folder\n",
    "- All images can be found in the /images folder\n",
    "\n",
    "Note:\n",
    "- Pickled data not available in repository due to exceeding github file size limit"
   ]
  },
  {
   "cell_type": "markdown",
   "metadata": {},
   "source": [
    "## Data and Baseline Model"
   ]
  },
  {
   "cell_type": "markdown",
   "metadata": {},
   "source": [
    "After reading in the data and performing a train/test split I utilize the spacy library to tokenize the documents before utilizing TfidfVectorizer to vectorize the tokens."
   ]
  },
  {
   "cell_type": "markdown",
   "metadata": {},
   "source": [
    "The tokenizer function works in the following order:\n",
    "1. Remove punctuations and numbers\n",
    "    - Plot webscraped from Wikipedia, in-text citations in plot\n",
    "2. Turn document into spacy doc\n",
    "3. Remove character names and pronouns\n",
    "4. Lemmatize, lowercase, remove spaces in words\n",
    "5. Remove stop words from document"
   ]
  },
  {
   "attachments": {},
   "cell_type": "markdown",
   "metadata": {},
   "source": [
    "![tokenize.png](https://raw.githubusercontent.com/ismizu/NLP_Keras_Project/main/images/tokenize.png)"
   ]
  },
  {
   "cell_type": "markdown",
   "metadata": {},
   "source": [
    "Following this, I ran a Multinomial Naive Bayes model to serve as the baseline metric."
   ]
  },
  {
   "attachments": {},
   "cell_type": "markdown",
   "metadata": {},
   "source": [
    "![mnb.png](https://raw.githubusercontent.com/ismizu/NLP_Keras_Project/main/images/mnb.png)"
   ]
  },
  {
   "cell_type": "markdown",
   "metadata": {},
   "source": [
    "## Keras Modeling"
   ]
  },
  {
   "cell_type": "markdown",
   "metadata": {},
   "source": [
    "After creating class weights to account for class imbalance, I did minor configurations to tensorflow's internal configurations for gpu usage.\n",
    "\n",
    "With that, I configured the keras model."
   ]
  },
  {
   "cell_type": "markdown",
   "metadata": {},
   "source": [
    "The following configuration was selected to account for:\n",
    "- Addressing class imbalance between movie genres\n",
    "    - For example: Crime movies accounted for only 3% of the data\n",
    "- Accounting for overfitting\n",
    "    - Validation accuracy would fall as training set accuracy rose\n",
    "    - Training set metrics lowered in exchange for higher validation score"
   ]
  },
  {
   "attachments": {},
   "cell_type": "markdown",
   "metadata": {},
   "source": [
    "![keras_settings.png](https://raw.githubusercontent.com/ismizu/NLP_Keras_Project/main/images/keras_settings.png)"
   ]
  },
  {
   "cell_type": "markdown",
   "metadata": {},
   "source": [
    "I graphed the loss as well as the sparse categorical accuracy for the training and validation sets with the goal of reducing the training set's accuracy while preventing the validation set's accuracy from dipping."
   ]
  },
  {
   "attachments": {},
   "cell_type": "markdown",
   "metadata": {},
   "source": [
    "![loss_accuracy_graph.png](https://raw.githubusercontent.com/ismizu/NLP_Keras_Project/main/images/loss_accuracy_graph.png)"
   ]
  },
  {
   "cell_type": "markdown",
   "metadata": {},
   "source": [
    "Following this, I make a prediction on the testing set as well as test its f1 score."
   ]
  },
  {
   "attachments": {},
   "cell_type": "markdown",
   "metadata": {},
   "source": [
    "![keras_f1_score.png](https://raw.githubusercontent.com/ismizu/NLP_Keras_Project/main/images/keras_f1_score.png)"
   ]
  },
  {
   "cell_type": "markdown",
   "metadata": {},
   "source": [
    "Finally, I take a look at the confusion matrix. Overall, what I am looking for is a defined diagonal going through the middle. The more defined the band, the more accurately the model correctly identified genres."
   ]
  },
  {
   "attachments": {},
   "cell_type": "markdown",
   "metadata": {},
   "source": [
    "![confusion_matrix.png](https://raw.githubusercontent.com/ismizu/NLP_Keras_Project/main/images/confusion_matrix.png)"
   ]
  },
  {
   "cell_type": "markdown",
   "metadata": {},
   "source": [
    "After reviewing the f1 score and confusion matrix, I repeatedly configured the keras settings until satisfied with the results.\n",
    "\n",
    "Once completed, I made predictions on the holdout set which can be found in the /data folder with the process being within the Predicting_Holdout_set notebook."
   ]
  }
 ],
 "metadata": {
  "kernelspec": {
   "display_name": "Python 3",
   "language": "python",
   "name": "python3"
  },
  "language_info": {
   "codemirror_mode": {
    "name": "ipython",
    "version": 3
   },
   "file_extension": ".py",
   "mimetype": "text/x-python",
   "name": "python",
   "nbconvert_exporter": "python",
   "pygments_lexer": "ipython3",
   "version": "3.8.5"
  },
  "toc": {
   "base_numbering": 1,
   "nav_menu": {},
   "number_sections": true,
   "sideBar": true,
   "skip_h1_title": false,
   "title_cell": "Table of Contents",
   "title_sidebar": "Contents",
   "toc_cell": false,
   "toc_position": {},
   "toc_section_display": true,
   "toc_window_display": false
  },
  "varInspector": {
   "cols": {
    "lenName": 16,
    "lenType": 16,
    "lenVar": 40
   },
   "kernels_config": {
    "python": {
     "delete_cmd_postfix": "",
     "delete_cmd_prefix": "del ",
     "library": "var_list.py",
     "varRefreshCmd": "print(var_dic_list())"
    },
    "r": {
     "delete_cmd_postfix": ") ",
     "delete_cmd_prefix": "rm(",
     "library": "var_list.r",
     "varRefreshCmd": "cat(var_dic_list()) "
    }
   },
   "types_to_exclude": [
    "module",
    "function",
    "builtin_function_or_method",
    "instance",
    "_Feature"
   ],
   "window_display": false
  }
 },
 "nbformat": 4,
 "nbformat_minor": 2
}
