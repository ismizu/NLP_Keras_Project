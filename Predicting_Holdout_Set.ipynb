{
 "cells": [
  {
   "cell_type": "code",
   "execution_count": 1,
   "metadata": {
    "ExecuteTime": {
     "end_time": "2021-07-16T16:02:42.507325Z",
     "start_time": "2021-07-16T16:00:32.668471Z"
    }
   },
   "outputs": [],
   "source": [
    "import pandas as pd\n",
    "import numpy as np\n",
    "import matplotlib.pyplot as plt\n",
    "import seaborn as sns\n",
    "import string\n",
    "\n",
    "import torch\n",
    "import spacy\n",
    "from spacy.lang.en.stop_words import STOP_WORDS\n",
    "\n",
    "import tensorflow as tf\n",
    "from tensorflow.compat.v1 import ConfigProto\n",
    "from tensorflow.compat.v1 import InteractiveSession\n",
    "\n",
    "from keras.models import Sequential\n",
    "from keras.layers import Dense, Dropout\n",
    "from keras import optimizers, metrics \n",
    "\n",
    "from sklearn.preprocessing import LabelEncoder\n",
    "from sklearn.model_selection import train_test_split\n",
    "from sklearn.feature_extraction.text import TfidfVectorizer\n",
    "from sklearn.naive_bayes import MultinomialNB\n",
    "from sklearn.metrics import f1_score, multilabel_confusion_matrix, plot_confusion_matrix\n",
    "from sklearn.utils import class_weight\n",
    "\n",
    "import pickle\n",
    "\n",
    "import warnings\n",
    "warnings.filterwarnings(\"ignore\")\n",
    "pd.set_option('display.max_rows', 200)\n",
    "pd.set_option('display.max_columns', 100)\n",
    "\n",
    "#Check for gpu connections for spacy and tensorflow\n",
    "assert torch.cuda.is_available() == True\n",
    "assert len(tf.config.list_physical_devices('GPU')) == 1"
   ]
  },
  {
   "cell_type": "code",
   "execution_count": null,
   "metadata": {
    "ExecuteTime": {
     "end_time": "2021-07-16T16:08:38.148694Z",
     "start_time": "2021-07-16T16:08:37.113097Z"
    }
   },
   "outputs": [],
   "source": [
    "#Read in Data\n",
    "df = pd.read_csv('data/movie_train.csv', index_col = 0)\n",
    "holdout_df = pd.read_csv('data/movie_test.csv', index_col = 0)\n",
    "\n",
    "#Dependent/independent split\n",
    "X = df['Plot']\n",
    "y = df['Genre']"
   ]
  },
  {
   "cell_type": "code",
   "execution_count": 9,
   "metadata": {
    "ExecuteTime": {
     "end_time": "2021-07-16T16:08:38.148694Z",
     "start_time": "2021-07-16T16:08:37.113097Z"
    }
   },
   "outputs": [],
   "source": [
    "#Gather stop words, punctuation, numbers for removal\n",
    "stop_words = spacy.lang.en.stop_words.STOP_WORDS\n",
    "punctuation = [*string.punctuation , *[str(x) for x in list(range(0,10))]]\n",
    "\n",
    "#Ensure spacy utilizes gpu over cpu\n",
    "spacy.prefer_gpu()\n",
    "#Load spacy\n",
    "nlp = spacy.load('en_core_web_trf')\n",
    "\n",
    "#Define spacy tokenizer\n",
    "def spacy_tok(text):\n",
    "    '''\n",
    "    Remove punctuation, character names, and pronouns before\n",
    "    lemmatize words and remove stop words\n",
    "    '''\n",
    "    doc = ''.join([x for x in text if x not in punctuation])\n",
    "    toks = nlp(doc)\n",
    "    toks = [word for word in toks if word.pos_ != 'PROPN' and word.pos_ != 'PRON']\n",
    "    toks = [word.lemma_.lower().strip() for word in toks]\n",
    "    toks = [word for word in toks if word not in stop_words]\n",
    "    return toks"
   ]
  },
  {
   "cell_type": "code",
   "execution_count": 10,
   "metadata": {
    "ExecuteTime": {
     "end_time": "2021-07-16T16:08:38.195597Z",
     "start_time": "2021-07-16T16:08:38.180610Z"
    }
   },
   "outputs": [],
   "source": [
    "#Instantiate vectorizer\n",
    "tfidf = TfidfVectorizer(tokenizer = spacy_tok,\n",
    "                        sublinear_tf = True,\n",
    "                        max_df = .8,\n",
    "                        min_df = 10,\n",
    "                        ngram_range = (1, 3))"
   ]
  },
  {
   "cell_type": "code",
   "execution_count": 11,
   "metadata": {
    "ExecuteTime": {
     "end_time": "2021-07-16T16:27:54.182375Z",
     "start_time": "2021-07-16T16:08:38.242652Z"
    }
   },
   "outputs": [],
   "source": [
    "#Tokenize/Vectorize data\n",
    "X = tfidf.fit_transform(X).toarray()\n",
    "holdout = tfidf.transform(holdout_df['Plot']).toarray()\n",
    "\n",
    "#Encode target variable\n",
    "encoder = LabelEncoder()\n",
    "y = encoder.fit_transform(y)"
   ]
  },
  {
   "cell_type": "code",
   "execution_count": 12,
   "metadata": {
    "ExecuteTime": {
     "end_time": "2021-07-16T16:31:21.955957Z",
     "start_time": "2021-07-16T16:31:21.947978Z"
    }
   },
   "outputs": [],
   "source": [
    "#Gather class weights to address class imbalance in Keras model\n",
    "class_weights = dict(zip(np.unique(y),\n",
    "                         class_weight.compute_class_weight('balanced',\n",
    "                                                           np.unique(y),\n",
    "                                                           y)\n",
    "                        )\n",
    "                    )"
   ]
  },
  {
   "cell_type": "code",
   "execution_count": 13,
   "metadata": {
    "ExecuteTime": {
     "end_time": "2021-07-16T16:31:23.223047Z",
     "start_time": "2021-07-16T16:31:23.182564Z"
    }
   },
   "outputs": [],
   "source": [
    "#Configure tensorflow gpu usage\n",
    "config = ConfigProto()\n",
    "\n",
    "#gpu usage cap\n",
    "#config.gpu_options.per_process_gpu_memory_fraction = .8\n",
    "\n",
    "#Allow tensorflow to vary gpu usage\n",
    "config.gpu_options.allow_growth = True\n",
    "session = InteractiveSession(config=config)"
   ]
  },
  {
   "cell_type": "code",
   "execution_count": null,
   "metadata": {
    "ExecuteTime": {
     "end_time": "2021-07-16T16:42:09.653263Z",
     "start_time": "2021-07-16T16:40:50.454347Z"
    }
   },
   "outputs": [],
   "source": [
    "num = 100\n",
    "batch_size = 500\n",
    "#Configure optimzer learning rate\n",
    "opt = tf.keras.optimizers.Adamax(learning_rate=0.00075)\n",
    "\n",
    "#Instantiate Keras model\n",
    "model = Sequential()\n",
    "model.add(Dense(num*2, activation = 'relu', input_dim = X.shape[1]))\n",
    "model.add(Dropout(0.6))\n",
    "model.add(Dense(num/2, activation = 'relu'))\n",
    "model.add(Dropout(0.3))\n",
    "model.add(Dense(9, activation = 'softmax'))\n",
    "\n",
    "#Compile/fit model\n",
    "model.compile(optimizer = opt,\n",
    "              loss = 'sparse_categorical_crossentropy',\n",
    "              metrics = [metrics.sparse_categorical_accuracy])\n",
    "\n",
    "results = model.fit(X, y,\n",
    "                    epochs = 170,\n",
    "                    batch_size = batch_size,\n",
    "                    validation_split = 0,\n",
    "                    shuffle = True,\n",
    "                    class_weight = class_weights\n",
    "                   )"
   ]
  },
  {
   "cell_type": "code",
   "execution_count": 22,
   "metadata": {
    "ExecuteTime": {
     "end_time": "2021-07-16T16:42:10.010634Z",
     "start_time": "2021-07-16T16:42:09.716181Z"
    }
   },
   "outputs": [
    {
     "data": {
      "image/png": "[encoded data removed]",
      "text/plain": [
       "<Figure size 720x360 with 3 Axes>"
      ]
     },
     "metadata": {
      "needs_background": "light"
     },
     "output_type": "display_data"
    }
   ],
   "source": [
    "#Gather results\n",
    "sigmoid_loss = results.history['loss']\n",
    "sigmoid_accuracy = results.history['sparse_categorical_accuracy']\n",
    "\n",
    "#Plot loss and accuracy\n",
    "fig, (ax1, ax2) = plt.subplots(1,2, figsize=(10,5))\n",
    "sns.lineplot(x=results.epoch, y=sigmoid_loss, ax=ax1, label='loss')\n",
    "sns.lineplot(x=results.epoch, y=sigmoid_accuracy, ax=ax2, label='sparse_categorical_accuracy');"
   ]
  },
  {
   "cell_type": "code",
   "execution_count": 24,
   "metadata": {
    "ExecuteTime": {
     "end_time": "2021-07-16T16:42:11.511048Z",
     "start_time": "2021-07-16T16:42:11.139910Z"
    }
   },
   "outputs": [],
   "source": [
    "#Predict on holdout set\n",
    "predictions = model.predict(holdout)\n",
    "\n",
    "#Inverse label encoding and create dataframe\n",
    "predictions = pd.DataFrame(encoder.inverse_transform(predictions.argmax(axis=1)))\n",
    "#Set index for predictions\n",
    "predictions.index = holdout_df.index\n",
    "#Export results\n",
    "predictions.to_csv('data/nlp_preds_isana_mizuma.csv', index = True)"
   ]
  }
 ],
 "metadata": {
  "kernelspec": {
   "display_name": "Python 3",
   "language": "python",
   "name": "python3"
  },
  "language_info": {
   "codemirror_mode": {
    "name": "ipython",
    "version": 3
   },
   "file_extension": ".py",
   "mimetype": "text/x-python",
   "name": "python",
   "nbconvert_exporter": "python",
   "pygments_lexer": "ipython3",
   "version": "3.8.5"
  },
  "toc": {
   "base_numbering": 1,
   "nav_menu": {},
   "number_sections": true,
   "sideBar": true,
   "skip_h1_title": false,
   "title_cell": "Table of Contents",
   "title_sidebar": "Contents",
   "toc_cell": false,
   "toc_position": {},
   "toc_section_display": true,
   "toc_window_display": false
  },
  "varInspector": {
   "cols": {
    "lenName": 16,
    "lenType": 16,
    "lenVar": 40
   },
   "kernels_config": {
    "python": {
     "delete_cmd_postfix": "",
     "delete_cmd_prefix": "del ",
     "library": "var_list.py",
     "varRefreshCmd": "print(var_dic_list())"
    },
    "r": {
     "delete_cmd_postfix": ") ",
     "delete_cmd_prefix": "rm(",
     "library": "var_list.r",
     "varRefreshCmd": "cat(var_dic_list()) "
    }
   },
   "types_to_exclude": [
    "module",
    "function",
    "builtin_function_or_method",
    "instance",
    "_Feature"
   ],
   "window_display": false
  }
 },
 "nbformat": 4,
 "nbformat_minor": 4
}
